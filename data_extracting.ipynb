{
 "cells": [
  {
   "cell_type": "code",
   "execution_count": 1,
   "id": "a592f9ef",
   "metadata": {},
   "outputs": [],
   "source": [
    "# importing libraries\n",
    "\n",
    "import requests\n",
    "import pyodbc\n",
    "from datetime import datetime, timedelta"
   ]
  },
  {
   "cell_type": "code",
   "execution_count": 2,
   "id": "292888d6",
   "metadata": {},
   "outputs": [],
   "source": [
    "# 1. defining cities and coordinates in a dictionery called 'CITIES'\n",
    "\n",
    "CITIES = {\n",
    "    \"London\": {\"lat\": 51.5074, \"lon\": -0.1278},\n",
    "    \"New York\": {\"lat\": 40.7128, \"lon\": -74.0060},\n",
    "    \"Sydney\": {\"lat\": -33.8688, \"lon\": 151.2093},\n",
    "    \"Lahore\": {\"lat\": 31.5204, \"lon\": 74.3587},\n",
    "    \"Dubai\": {\"lat\": 25.276987, \"lon\": 55.296249}\n",
    "}\n"
   ]
  },
  {
   "cell_type": "code",
   "execution_count": 3,
   "id": "09fa73e4",
   "metadata": {},
   "outputs": [
    {
     "name": "stdout",
     "output_type": "stream",
     "text": [
      "✅ SQL Connection Successful\n"
     ]
    }
   ],
   "source": [
    "# 2. establishing a connection with SQL server using a try-except block method\n",
    "\n",
    "try:\n",
    "    sql_connection = pyodbc.connect(\n",
    "        'DRIVER={ODBC Driver 17 for SQL Server};'\n",
    "        'SERVER=localhost;'\n",
    "        'DATABASE=WeatherDataWarehouse;'\n",
    "        'Trusted_Connection=yes;'\n",
    "    )\n",
    "    print(\"✅ SQL Connection Successful\")\n",
    "except Exception as e:\n",
    "    print(f\"❌ Connection Failed: {str(e)}\")\n",
    "    raise"
   ]
  },
  {
   "cell_type": "code",
   "execution_count": null,
   "id": "8ea1ff01",
   "metadata": {},
   "outputs": [
    {
     "name": "stdout",
     "output_type": "stream",
     "text": [
      "Data fetched for London\n",
      "Data fetched for New York\n",
      "Data fetched for Sydney\n",
      "Data fetched for Lahore\n",
      "ERROR for Dubai: Minutely API request limit exceeded. Please try again in one minute.\n"
     ]
    }
   ],
   "source": [
    "# 3. Process each city\n",
    "for city, coords in CITIES.items():\n",
    "    # 4. Get last recorded date\n",
    "    cursor = sql_connection.cursor()\n",
    "    cursor.execute(\"SELECT MAX(date) FROM fact_weather WHERE city_id = (SELECT city_id FROM dim_city WHERE city_name = ?)\", city)\n",
    "    last_date = cursor.fetchone()[0] or datetime(2000, 1, 1).date()\n",
    "    \n",
    "    # 5. Calculate date range\n",
    "    start_date = last_date + timedelta(days=1)\n",
    "    end_date = datetime.now().date()\n",
    "    if start_date > end_date:\n",
    "        continue\n",
    "    \n",
    "    # 6. Fetch weather data from API\n",
    "    url = f\"https://archive-api.open-meteo.com/v1/archive?latitude={coords['lat']}&longitude={coords['lon']}&start_date={start_date}&end_date={end_date}&daily=temperature_2m_max,temperature_2m_min,precipitation_sum\"\n",
    "    \n",
    "    response = requests.get(url)\n",
    "    data = response.json()\n",
    "\n",
    "    '''\n",
    "    - Checking if the response status code is 200.\n",
    "   - Checking if the JSON has a key 'error' that is True.\n",
    "    '''\n",
    "    if response.status_code == 200 and 'daily' in data:\n",
    "        daily_data = data['daily']\n",
    "        print(f\"Data fetched for {city}\")\n",
    "    else:\n",
    "        print(f\"ERROR for {city}: {data.get('reason', 'Unknown error')}\")  # Key insight\n",
    "\n",
    "   "
   ]
  },
  {
   "cell_type": "code",
   "execution_count": null,
   "id": "02884e95",
   "metadata": {},
   "outputs": [],
   "source": [
    " # 7. Insert into staging table\n",
    "    for i in range(len(daily_data['time'])):\n",
    "        cursor.execute(\"\"\"\n",
    "            INSERT INTO stg_weather_raw (city_name, date, temp_max, temp_min, precipitation)\n",
    "            VALUES (?, ?, ?, ?, ?)\n",
    "        \"\"\", city, \n",
    "           daily_data['time'][i],\n",
    "           daily_data['temperature_2m_max'][i],\n",
    "           daily_data['temperature_2m_min'][i],\n",
    "           daily_data['precipitation_sum'][i])\n",
    "    \n",
    "    sql_connection.commit()\n",
    "\n",
    "# 8. Clean up\n",
    "#sql_connection.close()"
   ]
  }
 ],
 "metadata": {
  "kernelspec": {
   "display_name": "Python 3",
   "language": "python",
   "name": "python3"
  },
  "language_info": {
   "codemirror_mode": {
    "name": "ipython",
    "version": 3
   },
   "file_extension": ".py",
   "mimetype": "text/x-python",
   "name": "python",
   "nbconvert_exporter": "python",
   "pygments_lexer": "ipython3",
   "version": "3.12.0"
  }
 },
 "nbformat": 4,
 "nbformat_minor": 5
}
